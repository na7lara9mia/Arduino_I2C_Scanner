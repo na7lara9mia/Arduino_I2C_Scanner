{
  "nbformat": 4,
  "nbformat_minor": 0,
  "metadata": {
    "colab": {
      "name": "02. Pandas basics.ipynb",
      "provenance": [],
      "collapsed_sections": [],
      "toc_visible": true
    },
    "kernelspec": {
      "display_name": "Python 3",
      "language": "python",
      "name": "python3"
    }
  },
  "cells": [
    {
      "cell_type": "markdown",
      "metadata": {
        "id": "lZ_hKguW1mOy",
        "colab_type": "text"
      },
      "source": [
        "![](https://i.ibb.co/WGtZTVb/titlecolab.png)\n",
        "![](http://python.lycee.free.fr/_images/python-logo.png)\n",
        "\n",
        "# Ekimetrics Python Training\n",
        "## Part 2 : Pandas basics\n",
        "\n",
        "This is the 2nd part of the Python training. <br>\n",
        "You will here learn how to **manipulate structured data such as Excel spreadsheets**. "
      ]
    },
    {
      "cell_type": "markdown",
      "metadata": {
        "id": "7XAl_sQc1mO6",
        "colab_type": "text"
      },
      "source": [
        "- last updated date: 2019/04/01\n",
        "- author: Ekimetrics\n",
        "- questions to: theo.alvesdacosta@ekimetrics.com"
      ]
    },
    {
      "cell_type": "code",
      "metadata": {
        "ExecuteTime": {
          "end_time": "2019-01-22T08:23:14.952114Z",
          "start_time": "2019-01-22T08:23:13.679522Z"
        },
        "init_cell": true,
        "nbpresent": {
          "id": "9b9743ad-f923-4139-830f-b1c8e2a9d2a7"
        },
        "id": "ia9d2ebr1mO7",
        "colab_type": "code",
        "colab": {}
      },
      "source": [
        "import pandas as pd\n",
        "import numpy as np\n",
        "import matplotlib.pyplot as plt"
      ],
      "execution_count": null,
      "outputs": []
    },
    {
      "cell_type": "markdown",
      "metadata": {
        "id": "JXN9D0fz1mPF",
        "colab_type": "text"
      },
      "source": [
        "## Summary\n",
        "- Pandas\n",
        "- Dataframes in Pandas\n",
        "- Properties of dataframe\n",
        "- Accessing to data\n",
        "- Creating columns\n",
        "- Filtering dataframes\n",
        "- Operations on Series\n",
        "- Visualizing data"
      ]
    },
    {
      "cell_type": "markdown",
      "metadata": {
        "solution2": "hidden",
        "solution2_first": true,
        "id": "QLqHm1961mPG",
        "colab_type": "text"
      },
      "source": [
        "**GENERATING SAMPLE DATA**<br>\n",
        "👌 Warning,  don't forget to launch this cell,  you will need it later"
      ]
    },
    {
      "cell_type": "code",
      "metadata": {
        "solution2": "hidden",
        "id": "EgBcIC751mPT",
        "colab_type": "code",
        "cellView": "form",
        "colab": {}
      },
      "source": [
        "#@title\n",
        "def generate_profit_by_country():\n",
        "\n",
        "    np.random.seed(42)\n",
        "\n",
        "    date = [\"2015-0{}-01\".format(x) for x in range(1,13)]\n",
        "    date += [\"2016-0{}-01\".format(x) for x in range(1,13)]\n",
        "    date = [x.replace(\"011\",\"11\").replace(\"012\",\"12\").replace(\"010\",\"10\") for x in date]\n",
        "\n",
        "    def generate_data():\n",
        "\n",
        "\n",
        "        start = np.random.randint(5000,15000)\n",
        "        fluctu = np.random.randint(300,2000)\n",
        "        coef = np.random.randint(-1000,1000)\n",
        "        choice = np.random.choice([0,1])\n",
        "        if choice == 0:\n",
        "            values = [start + coef * i + np.random.normal(0,fluctu) for i in range(len(date))]\n",
        "        elif choice == 1:\n",
        "            values = [start + fluctu*np.cos(i) + np.random.normal(0,fluctu) for i in range(len(date))]\n",
        "        return values\n",
        "\n",
        "    values = []\n",
        "    dates = []\n",
        "    countries = []\n",
        "    products = []\n",
        "\n",
        "    for country in [\"UK\",\"France\",\"Germany\",\"China\",\"USA\",\"Italy\",\"Spain\",\"Japan\"]:\n",
        "        for product in [\"Product A\",\"Product B\",\"Product C\",\"Product D\",\"Product E\"]:\n",
        "            dates.extend(date)\n",
        "            values.extend(generate_data())\n",
        "            countries.extend([country]*len(date))\n",
        "            products.extend([product]*len(date))\n",
        "\n",
        "    data = pd.DataFrame()\n",
        "    data[\"Date\"] = dates\n",
        "    data[\"Country\"] = countries\n",
        "    data[\"Product\"] = products\n",
        "    data[\"Profit\"] = values\n",
        "    \n",
        "    return data\n",
        "  \n",
        "  \n",
        "def generate_population_by_country_code():\n",
        "  \n",
        "  data = {\n",
        "      \"UK\":[50*1e6],\n",
        "      \"FRA\":[70*1e6],\n",
        "      \"GER\":[80*1e6],\n",
        "      \"CHI\":[2000*1e6],\n",
        "      \"USA\":[350*1e6],\n",
        "      \"ITA\":[40*1e6],\n",
        "      \"SPA\":[45*1e6],\n",
        "      \"JAP\":[70*1e6],\n",
        "  }\n",
        "  \n",
        "  data = pd.DataFrame(data).T\n",
        "  data.reset_index(inplace = True)\n",
        "  data.columns = [\"country_code\",\"population\"]\n",
        "  return data\n"
      ],
      "execution_count": null,
      "outputs": []
    },
    {
      "cell_type": "markdown",
      "metadata": {
        "nbpresent": {
          "id": "b1cbeb80-c5ad-42f5-a6be-da82600d8bf9"
        },
        "id": "Xtfvrv331mPX",
        "colab_type": "text"
      },
      "source": [
        "***\n",
        "# Working with structured data"
      ]
    },
    {
      "cell_type": "markdown",
      "metadata": {
        "nbpresent": {
          "id": "61a212f8-9aa1-40bd-9b1e-21e4ec14694e"
        },
        "id": "7tGXeutA1mPZ",
        "colab_type": "text"
      },
      "source": [
        "## Pandas"
      ]
    },
    {
      "cell_type": "markdown",
      "metadata": {
        "id": "y_-xY2204Ckt",
        "colab_type": "text"
      },
      "source": [
        "![](https://media.giphy.com/media/l4JyOCHKxB3NkXKMw/giphy.gif)"
      ]
    },
    {
      "cell_type": "markdown",
      "metadata": {
        "nbpresent": {
          "id": "fc9a4f66-5e93-4c24-a2ff-77259fe9a0b2"
        },
        "id": "k1FrvU6D1mPa",
        "colab_type": "text"
      },
      "source": [
        "## Dataframes in Pandas"
      ]
    },
    {
      "cell_type": "markdown",
      "metadata": {
        "id": "Pj8Irh9h1mPb",
        "colab_type": "text"
      },
      "source": [
        "### Creating data"
      ]
    },
    {
      "cell_type": "code",
      "metadata": {
        "ExecuteTime": {
          "end_time": "2019-01-22T08:23:14.952114Z",
          "start_time": "2019-01-22T08:23:13.688Z"
        },
        "init_cell": true,
        "id": "_yTApFZF1mPd",
        "colab_type": "code",
        "colab": {
          "base_uri": "https://localhost:8080/",
          "height": 136
        },
        "outputId": "de934bd3-f92f-479d-81c3-8d2fb88e1944"
      },
      "source": [
        "df = pd.DataFrame()\n",
        "df[\"A\"] = [1,2,3]\n",
        "df[\"B\"] = [\"A\",\"B\",\"C\"]\n",
        "df[\"C\"] = [7,12.2,\"J\"]\n",
        "df[\"D\"] = [[1,2],2,3]\n",
        "df"
      ],
      "execution_count": null,
      "outputs": [
        {
          "output_type": "execute_result",
          "data": {
            "text/html": [
              "<div>\n",
              "<style scoped>\n",
              "    .dataframe tbody tr th:only-of-type {\n",
              "        vertical-align: middle;\n",
              "    }\n",
              "\n",
              "    .dataframe tbody tr th {\n",
              "        vertical-align: top;\n",
              "    }\n",
              "\n",
              "    .dataframe thead th {\n",
              "        text-align: right;\n",
              "    }\n",
              "</style>\n",
              "<table border=\"1\" class=\"dataframe\">\n",
              "  <thead>\n",
              "    <tr style=\"text-align: right;\">\n",
              "      <th></th>\n",
              "      <th>A</th>\n",
              "      <th>B</th>\n",
              "      <th>C</th>\n",
              "      <th>D</th>\n",
              "    </tr>\n",
              "  </thead>\n",
              "  <tbody>\n",
              "    <tr>\n",
              "      <th>0</th>\n",
              "      <td>1</td>\n",
              "      <td>A</td>\n",
              "      <td>7</td>\n",
              "      <td>[1, 2]</td>\n",
              "    </tr>\n",
              "    <tr>\n",
              "      <th>1</th>\n",
              "      <td>2</td>\n",
              "      <td>B</td>\n",
              "      <td>12.2</td>\n",
              "      <td>2</td>\n",
              "    </tr>\n",
              "    <tr>\n",
              "      <th>2</th>\n",
              "      <td>3</td>\n",
              "      <td>C</td>\n",
              "      <td>J</td>\n",
              "      <td>3</td>\n",
              "    </tr>\n",
              "  </tbody>\n",
              "</table>\n",
              "</div>"
            ],
            "text/plain": [
              "   A  B     C       D\n",
              "0  1  A     7  [1, 2]\n",
              "1  2  B  12.2       2\n",
              "2  3  C     J       3"
            ]
          },
          "metadata": {
            "tags": []
          },
          "execution_count": 4
        }
      ]
    },
    {
      "cell_type": "markdown",
      "metadata": {
        "id": "Y_-mkfay1mPg",
        "colab_type": "text"
      },
      "source": [
        "### Reading data"
      ]
    },
    {
      "cell_type": "markdown",
      "metadata": {
        "id": "Swn0pHzi1mPh",
        "colab_type": "text"
      },
      "source": [
        "#### Reading csv files"
      ]
    },
    {
      "cell_type": "code",
      "metadata": {
        "ExecuteTime": {
          "end_time": "2019-01-22T08:23:14.954109Z",
          "start_time": "2019-01-22T08:23:13.702Z"
        },
        "init_cell": true,
        "id": "sdF_in2d1mPi",
        "colab_type": "code",
        "colab": {
          "base_uri": "https://localhost:8080/",
          "height": 195
        },
        "outputId": "7fb0cf03-1155-44e1-d639-778512e59956"
      },
      "source": [
        "# In the colaboratory environment we will not read the data from a file but reconstruct it\n",
        "# If you have an error launch the cell at the beginning of this notebook\n",
        "\n",
        "try:\n",
        "  profit_by_country = pd.read_csv(\"/data/profit_by_country.csv\")\n",
        "except:\n",
        "  profit_by_country = generate_profit_by_country()\n",
        "  \n",
        "profit_by_country.head()"
      ],
      "execution_count": null,
      "outputs": [
        {
          "output_type": "execute_result",
          "data": {
            "text/html": [
              "<div>\n",
              "<style scoped>\n",
              "    .dataframe tbody tr th:only-of-type {\n",
              "        vertical-align: middle;\n",
              "    }\n",
              "\n",
              "    .dataframe tbody tr th {\n",
              "        vertical-align: top;\n",
              "    }\n",
              "\n",
              "    .dataframe thead th {\n",
              "        text-align: right;\n",
              "    }\n",
              "</style>\n",
              "<table border=\"1\" class=\"dataframe\">\n",
              "  <thead>\n",
              "    <tr style=\"text-align: right;\">\n",
              "      <th></th>\n",
              "      <th>Date</th>\n",
              "      <th>Country</th>\n",
              "      <th>Product</th>\n",
              "      <th>Profit</th>\n",
              "    </tr>\n",
              "  </thead>\n",
              "  <tbody>\n",
              "    <tr>\n",
              "      <th>0</th>\n",
              "      <td>2015-01-01</td>\n",
              "      <td>UK</td>\n",
              "      <td>Product A</td>\n",
              "      <td>13409.284139</td>\n",
              "    </tr>\n",
              "    <tr>\n",
              "      <th>1</th>\n",
              "      <td>2015-02-01</td>\n",
              "      <td>UK</td>\n",
              "      <td>Product A</td>\n",
              "      <td>14809.009517</td>\n",
              "    </tr>\n",
              "    <tr>\n",
              "      <th>2</th>\n",
              "      <td>2015-03-01</td>\n",
              "      <td>UK</td>\n",
              "      <td>Product A</td>\n",
              "      <td>11578.124214</td>\n",
              "    </tr>\n",
              "    <tr>\n",
              "      <th>3</th>\n",
              "      <td>2015-04-01</td>\n",
              "      <td>UK</td>\n",
              "      <td>Product A</td>\n",
              "      <td>11438.153093</td>\n",
              "    </tr>\n",
              "    <tr>\n",
              "      <th>4</th>\n",
              "      <td>2015-05-01</td>\n",
              "      <td>UK</td>\n",
              "      <td>Product A</td>\n",
              "      <td>14487.835342</td>\n",
              "    </tr>\n",
              "  </tbody>\n",
              "</table>\n",
              "</div>"
            ],
            "text/plain": [
              "         Date Country    Product        Profit\n",
              "0  2015-01-01      UK  Product A  13409.284139\n",
              "1  2015-02-01      UK  Product A  14809.009517\n",
              "2  2015-03-01      UK  Product A  11578.124214\n",
              "3  2015-04-01      UK  Product A  11438.153093\n",
              "4  2015-05-01      UK  Product A  14487.835342"
            ]
          },
          "metadata": {
            "tags": []
          },
          "execution_count": 36
        }
      ]
    },
    {
      "cell_type": "markdown",
      "metadata": {
        "id": "8XXOFBqc1mPl",
        "colab_type": "text"
      },
      "source": [
        "#### Reading excel files"
      ]
    },
    {
      "cell_type": "code",
      "metadata": {
        "ExecuteTime": {
          "end_time": "2019-01-22T08:23:14.955106Z",
          "start_time": "2019-01-22T08:23:13.707Z"
        },
        "init_cell": true,
        "id": "ZEmgJK_51mPm",
        "colab_type": "code",
        "colab": {
          "base_uri": "https://localhost:8080/",
          "height": 195
        },
        "outputId": "6b752282-4cc2-411d-82e1-0c279b7a9717"
      },
      "source": [
        "# In the colaboratory environment we will not read the data from a file but reconstruct it\n",
        "# If you have an error launch the cell at the beginning of this notebook\n",
        "\n",
        "try:\n",
        "  pop_by_country_code = pd.read_excel(\"Data/population_by_country_code.xlsx\")\n",
        "except:\n",
        "  pop_by_country_code = generate_population_by_country_code()\n",
        "\n",
        "pop_by_country_code.head()"
      ],
      "execution_count": null,
      "outputs": [
        {
          "output_type": "execute_result",
          "data": {
            "text/html": [
              "<div>\n",
              "<style scoped>\n",
              "    .dataframe tbody tr th:only-of-type {\n",
              "        vertical-align: middle;\n",
              "    }\n",
              "\n",
              "    .dataframe tbody tr th {\n",
              "        vertical-align: top;\n",
              "    }\n",
              "\n",
              "    .dataframe thead th {\n",
              "        text-align: right;\n",
              "    }\n",
              "</style>\n",
              "<table border=\"1\" class=\"dataframe\">\n",
              "  <thead>\n",
              "    <tr style=\"text-align: right;\">\n",
              "      <th></th>\n",
              "      <th>country_code</th>\n",
              "      <th>population</th>\n",
              "    </tr>\n",
              "  </thead>\n",
              "  <tbody>\n",
              "    <tr>\n",
              "      <th>0</th>\n",
              "      <td>CHI</td>\n",
              "      <td>2.000000e+09</td>\n",
              "    </tr>\n",
              "    <tr>\n",
              "      <th>1</th>\n",
              "      <td>FRA</td>\n",
              "      <td>7.000000e+07</td>\n",
              "    </tr>\n",
              "    <tr>\n",
              "      <th>2</th>\n",
              "      <td>GER</td>\n",
              "      <td>8.000000e+07</td>\n",
              "    </tr>\n",
              "    <tr>\n",
              "      <th>3</th>\n",
              "      <td>ITA</td>\n",
              "      <td>4.000000e+07</td>\n",
              "    </tr>\n",
              "    <tr>\n",
              "      <th>4</th>\n",
              "      <td>JAP</td>\n",
              "      <td>7.000000e+07</td>\n",
              "    </tr>\n",
              "  </tbody>\n",
              "</table>\n",
              "</div>"
            ],
            "text/plain": [
              "  country_code    population\n",
              "0          CHI  2.000000e+09\n",
              "1          FRA  7.000000e+07\n",
              "2          GER  8.000000e+07\n",
              "3          ITA  4.000000e+07\n",
              "4          JAP  7.000000e+07"
            ]
          },
          "metadata": {
            "tags": []
          },
          "execution_count": 37
        }
      ]
    },
    {
      "cell_type": "markdown",
      "metadata": {
        "id": "pklSG-my1mPp",
        "colab_type": "text"
      },
      "source": [
        "#### Reading other data sources\n",
        "- SQL (see Ekimetrics library)\n",
        "- Json \n",
        "- etc ..."
      ]
    },
    {
      "cell_type": "markdown",
      "metadata": {
        "nbpresent": {
          "id": "ee9d9a4d-e83d-4a4a-9966-64bece4658c0"
        },
        "id": "5DazHBFn1mPq",
        "colab_type": "text"
      },
      "source": [
        "***\n",
        "# The basics of dataframes manipulation"
      ]
    },
    {
      "cell_type": "markdown",
      "metadata": {
        "nbpresent": {
          "id": "3e07d7c6-5a16-4978-973d-a0c07ed68603"
        },
        "id": "cyeiuHkJ1mPs",
        "colab_type": "text"
      },
      "source": [
        "## Properties"
      ]
    },
    {
      "cell_type": "code",
      "metadata": {
        "ExecuteTime": {
          "end_time": "2019-01-22T08:23:14.956107Z",
          "start_time": "2019-01-22T08:23:13.719Z"
        },
        "init_cell": true,
        "id": "6s4jj_CN1mPt",
        "colab_type": "code",
        "colab": {
          "base_uri": "https://localhost:8080/",
          "height": 284
        },
        "outputId": "7e63fe0a-4060-476a-b45f-7e77cf0f11f1"
      },
      "source": [
        "profit_by_country.describe()"
      ],
      "execution_count": null,
      "outputs": [
        {
          "output_type": "execute_result",
          "data": {
            "text/html": [
              "<div>\n",
              "<style scoped>\n",
              "    .dataframe tbody tr th:only-of-type {\n",
              "        vertical-align: middle;\n",
              "    }\n",
              "\n",
              "    .dataframe tbody tr th {\n",
              "        vertical-align: top;\n",
              "    }\n",
              "\n",
              "    .dataframe thead th {\n",
              "        text-align: right;\n",
              "    }\n",
              "</style>\n",
              "<table border=\"1\" class=\"dataframe\">\n",
              "  <thead>\n",
              "    <tr style=\"text-align: right;\">\n",
              "      <th></th>\n",
              "      <th>Profit</th>\n",
              "    </tr>\n",
              "  </thead>\n",
              "  <tbody>\n",
              "    <tr>\n",
              "      <th>count</th>\n",
              "      <td>960.000000</td>\n",
              "    </tr>\n",
              "    <tr>\n",
              "      <th>mean</th>\n",
              "      <td>7665.895038</td>\n",
              "    </tr>\n",
              "    <tr>\n",
              "      <th>std</th>\n",
              "      <td>5303.848817</td>\n",
              "    </tr>\n",
              "    <tr>\n",
              "      <th>min</th>\n",
              "      <td>-14014.287837</td>\n",
              "    </tr>\n",
              "    <tr>\n",
              "      <th>25%</th>\n",
              "      <td>5387.048578</td>\n",
              "    </tr>\n",
              "    <tr>\n",
              "      <th>50%</th>\n",
              "      <td>8925.121788</td>\n",
              "    </tr>\n",
              "    <tr>\n",
              "      <th>75%</th>\n",
              "      <td>11311.898286</td>\n",
              "    </tr>\n",
              "    <tr>\n",
              "      <th>max</th>\n",
              "      <td>20083.896833</td>\n",
              "    </tr>\n",
              "  </tbody>\n",
              "</table>\n",
              "</div>"
            ],
            "text/plain": [
              "             Profit\n",
              "count    960.000000\n",
              "mean    7665.895038\n",
              "std     5303.848817\n",
              "min   -14014.287837\n",
              "25%     5387.048578\n",
              "50%     8925.121788\n",
              "75%    11311.898286\n",
              "max    20083.896833"
            ]
          },
          "metadata": {
            "tags": []
          },
          "execution_count": 38
        }
      ]
    },
    {
      "cell_type": "code",
      "metadata": {
        "ExecuteTime": {
          "end_time": "2019-01-22T08:23:14.957101Z",
          "start_time": "2019-01-22T08:23:13.724Z"
        },
        "init_cell": true,
        "id": "7wt1fDQX1mPw",
        "colab_type": "code",
        "colab": {
          "base_uri": "https://localhost:8080/",
          "height": 34
        },
        "outputId": "adb9af57-2103-46fb-ef19-41ed9608abe1"
      },
      "source": [
        "profit_by_country.columns"
      ],
      "execution_count": null,
      "outputs": [
        {
          "output_type": "execute_result",
          "data": {
            "text/plain": [
              "Index(['Date', 'Country', 'Product', 'Profit'], dtype='object')"
            ]
          },
          "metadata": {
            "tags": []
          },
          "execution_count": 39
        }
      ]
    },
    {
      "cell_type": "code",
      "metadata": {
        "ExecuteTime": {
          "end_time": "2019-01-22T08:23:14.960101Z",
          "start_time": "2019-01-22T08:23:13.733Z"
        },
        "init_cell": true,
        "id": "LS820sz51mP4",
        "colab_type": "code",
        "colab": {
          "base_uri": "https://localhost:8080/",
          "height": 34
        },
        "outputId": "c458f3c9-c8f7-4bb1-b544-bcdc834e26dc"
      },
      "source": [
        "profit_by_country.shape"
      ],
      "execution_count": null,
      "outputs": [
        {
          "output_type": "execute_result",
          "data": {
            "text/plain": [
              "(960, 4)"
            ]
          },
          "metadata": {
            "tags": []
          },
          "execution_count": 40
        }
      ]
    },
    {
      "cell_type": "code",
      "metadata": {
        "ExecuteTime": {
          "end_time": "2019-01-22T08:23:14.961091Z",
          "start_time": "2019-01-22T08:23:13.737Z"
        },
        "init_cell": true,
        "id": "gHU-ywEf1mP_",
        "colab_type": "code",
        "colab": {
          "base_uri": "https://localhost:8080/",
          "height": 50
        },
        "outputId": "dc41f631-c775-4f21-a2e1-0d004890f2c3"
      },
      "source": [
        "print(profit_by_country[\"Country\"].unique())\n",
        "print(profit_by_country[\"Product\"].unique())"
      ],
      "execution_count": null,
      "outputs": [
        {
          "output_type": "stream",
          "text": [
            "['UK' 'France' 'Germany' 'China' 'USA' 'Italy' 'Spain' 'Japan']\n",
            "['Product A' 'Product B' 'Product C' 'Product D' 'Product E']\n"
          ],
          "name": "stdout"
        }
      ]
    },
    {
      "cell_type": "code",
      "metadata": {
        "ExecuteTime": {
          "end_time": "2019-01-22T08:23:14.963086Z",
          "start_time": "2019-01-22T08:23:13.740Z"
        },
        "init_cell": true,
        "id": "7rIjJYwa1mQD",
        "colab_type": "code",
        "colab": {
          "base_uri": "https://localhost:8080/",
          "height": 168
        },
        "outputId": "9ee68e8c-6372-4d95-a238-b2f100cbe894"
      },
      "source": [
        "profit_by_country[\"Country\"].value_counts()"
      ],
      "execution_count": null,
      "outputs": [
        {
          "output_type": "execute_result",
          "data": {
            "text/plain": [
              "China      120\n",
              "Italy      120\n",
              "Spain      120\n",
              "Japan      120\n",
              "France     120\n",
              "Germany    120\n",
              "USA        120\n",
              "UK         120\n",
              "Name: Country, dtype: int64"
            ]
          },
          "metadata": {
            "tags": []
          },
          "execution_count": 42
        }
      ]
    },
    {
      "cell_type": "markdown",
      "metadata": {
        "id": "m9qwGZoS1mQH",
        "colab_type": "text"
      },
      "source": [
        "## Accessing data"
      ]
    },
    {
      "cell_type": "markdown",
      "metadata": {
        "id": "oB0YIVg51mQJ",
        "colab_type": "text"
      },
      "source": [
        "### Accessing one column : Series"
      ]
    },
    {
      "cell_type": "code",
      "metadata": {
        "ExecuteTime": {
          "end_time": "2019-01-22T08:23:14.964084Z",
          "start_time": "2019-01-22T08:23:13.748Z"
        },
        "init_cell": true,
        "id": "M7iV0x8d1mQK",
        "colab_type": "code",
        "colab": {
          "base_uri": "https://localhost:8080/",
          "height": 118
        },
        "outputId": "e452699e-597e-4809-ba58-c3580bd2fc1d"
      },
      "source": [
        "profit_by_country[\"Country\"].head()"
      ],
      "execution_count": null,
      "outputs": [
        {
          "output_type": "execute_result",
          "data": {
            "text/plain": [
              "0    UK\n",
              "1    UK\n",
              "2    UK\n",
              "3    UK\n",
              "4    UK\n",
              "Name: Country, dtype: object"
            ]
          },
          "metadata": {
            "tags": []
          },
          "execution_count": 43
        }
      ]
    },
    {
      "cell_type": "markdown",
      "metadata": {
        "id": "ey5KGNQS1mQM",
        "colab_type": "text"
      },
      "source": [
        "### Accessing multiple columns : DataFrame"
      ]
    },
    {
      "cell_type": "code",
      "metadata": {
        "ExecuteTime": {
          "end_time": "2019-01-22T08:23:14.966114Z",
          "start_time": "2019-01-22T08:23:13.753Z"
        },
        "init_cell": true,
        "id": "WE-4PqFe1mQN",
        "colab_type": "code",
        "colab": {
          "base_uri": "https://localhost:8080/",
          "height": 195
        },
        "outputId": "6163e6c2-c84c-45e4-8962-5a9bbd41b9b0"
      },
      "source": [
        "profit_by_country[[\"Country\",\"Product\"]].head()"
      ],
      "execution_count": null,
      "outputs": [
        {
          "output_type": "execute_result",
          "data": {
            "text/html": [
              "<div>\n",
              "<style scoped>\n",
              "    .dataframe tbody tr th:only-of-type {\n",
              "        vertical-align: middle;\n",
              "    }\n",
              "\n",
              "    .dataframe tbody tr th {\n",
              "        vertical-align: top;\n",
              "    }\n",
              "\n",
              "    .dataframe thead th {\n",
              "        text-align: right;\n",
              "    }\n",
              "</style>\n",
              "<table border=\"1\" class=\"dataframe\">\n",
              "  <thead>\n",
              "    <tr style=\"text-align: right;\">\n",
              "      <th></th>\n",
              "      <th>Country</th>\n",
              "      <th>Product</th>\n",
              "    </tr>\n",
              "  </thead>\n",
              "  <tbody>\n",
              "    <tr>\n",
              "      <th>0</th>\n",
              "      <td>UK</td>\n",
              "      <td>Product A</td>\n",
              "    </tr>\n",
              "    <tr>\n",
              "      <th>1</th>\n",
              "      <td>UK</td>\n",
              "      <td>Product A</td>\n",
              "    </tr>\n",
              "    <tr>\n",
              "      <th>2</th>\n",
              "      <td>UK</td>\n",
              "      <td>Product A</td>\n",
              "    </tr>\n",
              "    <tr>\n",
              "      <th>3</th>\n",
              "      <td>UK</td>\n",
              "      <td>Product A</td>\n",
              "    </tr>\n",
              "    <tr>\n",
              "      <th>4</th>\n",
              "      <td>UK</td>\n",
              "      <td>Product A</td>\n",
              "    </tr>\n",
              "  </tbody>\n",
              "</table>\n",
              "</div>"
            ],
            "text/plain": [
              "  Country    Product\n",
              "0      UK  Product A\n",
              "1      UK  Product A\n",
              "2      UK  Product A\n",
              "3      UK  Product A\n",
              "4      UK  Product A"
            ]
          },
          "metadata": {
            "tags": []
          },
          "execution_count": 44
        }
      ]
    },
    {
      "cell_type": "markdown",
      "metadata": {
        "id": "DBOuwCVT1mQP",
        "colab_type": "text"
      },
      "source": [
        "### Accessing data using .iloc[row,column]"
      ]
    },
    {
      "cell_type": "code",
      "metadata": {
        "ExecuteTime": {
          "end_time": "2019-01-22T08:23:14.966114Z",
          "start_time": "2019-01-22T08:23:13.762Z"
        },
        "init_cell": true,
        "id": "FXsGf1Tn1mQR",
        "colab_type": "code",
        "colab": {
          "base_uri": "https://localhost:8080/",
          "height": 101
        },
        "outputId": "6f1bf968-8aac-4232-f562-6adebc701c70"
      },
      "source": [
        "profit_by_country.iloc[0]"
      ],
      "execution_count": null,
      "outputs": [
        {
          "output_type": "execute_result",
          "data": {
            "text/plain": [
              "Date       2015-01-01\n",
              "Country            UK\n",
              "Product     Product A\n",
              "Profit        13409.3\n",
              "Name: 0, dtype: object"
            ]
          },
          "metadata": {
            "tags": []
          },
          "execution_count": 45
        }
      ]
    },
    {
      "cell_type": "code",
      "metadata": {
        "ExecuteTime": {
          "end_time": "2019-01-22T08:23:14.967074Z",
          "start_time": "2019-01-22T08:23:13.770Z"
        },
        "init_cell": true,
        "id": "8cM14VMx1mQU",
        "colab_type": "code",
        "colab": {
          "base_uri": "https://localhost:8080/",
          "height": 118
        },
        "outputId": "905bbef4-a0bd-470d-fe23-3217f4c80f40"
      },
      "source": [
        "profit_by_country.iloc[:,0].head()"
      ],
      "execution_count": null,
      "outputs": [
        {
          "output_type": "execute_result",
          "data": {
            "text/plain": [
              "0    2015-01-01\n",
              "1    2015-02-01\n",
              "2    2015-03-01\n",
              "3    2015-04-01\n",
              "4    2015-05-01\n",
              "Name: Date, dtype: object"
            ]
          },
          "metadata": {
            "tags": []
          },
          "execution_count": 46
        }
      ]
    },
    {
      "cell_type": "code",
      "metadata": {
        "ExecuteTime": {
          "end_time": "2019-01-22T08:23:14.968072Z",
          "start_time": "2019-01-22T08:23:13.773Z"
        },
        "init_cell": true,
        "id": "uEI9rSDf1mQX",
        "colab_type": "code",
        "colab": {
          "base_uri": "https://localhost:8080/",
          "height": 34
        },
        "outputId": "ead834a5-7fff-4453-f156-4ef0bcdd23ac"
      },
      "source": [
        "profit_by_country.iloc[0,0]"
      ],
      "execution_count": null,
      "outputs": [
        {
          "output_type": "execute_result",
          "data": {
            "text/plain": [
              "'2015-01-01'"
            ]
          },
          "metadata": {
            "tags": []
          },
          "execution_count": 47
        }
      ]
    },
    {
      "cell_type": "code",
      "metadata": {
        "ExecuteTime": {
          "end_time": "2019-01-22T08:23:14.969068Z",
          "start_time": "2019-01-22T08:23:13.782Z"
        },
        "init_cell": true,
        "id": "agoEb2Lp1mQa",
        "colab_type": "code",
        "colab": {
          "base_uri": "https://localhost:8080/",
          "height": 284
        },
        "outputId": "afc4287d-f76a-434c-8947-f8e602a58b9e"
      },
      "source": [
        "profit_by_country.iloc[:8,:]"
      ],
      "execution_count": null,
      "outputs": [
        {
          "output_type": "execute_result",
          "data": {
            "text/html": [
              "<div>\n",
              "<style scoped>\n",
              "    .dataframe tbody tr th:only-of-type {\n",
              "        vertical-align: middle;\n",
              "    }\n",
              "\n",
              "    .dataframe tbody tr th {\n",
              "        vertical-align: top;\n",
              "    }\n",
              "\n",
              "    .dataframe thead th {\n",
              "        text-align: right;\n",
              "    }\n",
              "</style>\n",
              "<table border=\"1\" class=\"dataframe\">\n",
              "  <thead>\n",
              "    <tr style=\"text-align: right;\">\n",
              "      <th></th>\n",
              "      <th>Date</th>\n",
              "      <th>Country</th>\n",
              "      <th>Product</th>\n",
              "      <th>Profit</th>\n",
              "    </tr>\n",
              "  </thead>\n",
              "  <tbody>\n",
              "    <tr>\n",
              "      <th>0</th>\n",
              "      <td>2015-01-01</td>\n",
              "      <td>UK</td>\n",
              "      <td>Product A</td>\n",
              "      <td>13409.284139</td>\n",
              "    </tr>\n",
              "    <tr>\n",
              "      <th>1</th>\n",
              "      <td>2015-02-01</td>\n",
              "      <td>UK</td>\n",
              "      <td>Product A</td>\n",
              "      <td>14809.009517</td>\n",
              "    </tr>\n",
              "    <tr>\n",
              "      <th>2</th>\n",
              "      <td>2015-03-01</td>\n",
              "      <td>UK</td>\n",
              "      <td>Product A</td>\n",
              "      <td>11578.124214</td>\n",
              "    </tr>\n",
              "    <tr>\n",
              "      <th>3</th>\n",
              "      <td>2015-04-01</td>\n",
              "      <td>UK</td>\n",
              "      <td>Product A</td>\n",
              "      <td>11438.153093</td>\n",
              "    </tr>\n",
              "    <tr>\n",
              "      <th>4</th>\n",
              "      <td>2015-05-01</td>\n",
              "      <td>UK</td>\n",
              "      <td>Product A</td>\n",
              "      <td>14487.835342</td>\n",
              "    </tr>\n",
              "    <tr>\n",
              "      <th>5</th>\n",
              "      <td>2015-06-01</td>\n",
              "      <td>UK</td>\n",
              "      <td>Product A</td>\n",
              "      <td>12919.917689</td>\n",
              "    </tr>\n",
              "    <tr>\n",
              "      <th>6</th>\n",
              "      <td>2015-07-01</td>\n",
              "      <td>UK</td>\n",
              "      <td>Product A</td>\n",
              "      <td>10604.194555</td>\n",
              "    </tr>\n",
              "    <tr>\n",
              "      <th>7</th>\n",
              "      <td>2015-08-01</td>\n",
              "      <td>UK</td>\n",
              "      <td>Product A</td>\n",
              "      <td>12244.363117</td>\n",
              "    </tr>\n",
              "  </tbody>\n",
              "</table>\n",
              "</div>"
            ],
            "text/plain": [
              "         Date Country    Product        Profit\n",
              "0  2015-01-01      UK  Product A  13409.284139\n",
              "1  2015-02-01      UK  Product A  14809.009517\n",
              "2  2015-03-01      UK  Product A  11578.124214\n",
              "3  2015-04-01      UK  Product A  11438.153093\n",
              "4  2015-05-01      UK  Product A  14487.835342\n",
              "5  2015-06-01      UK  Product A  12919.917689\n",
              "6  2015-07-01      UK  Product A  10604.194555\n",
              "7  2015-08-01      UK  Product A  12244.363117"
            ]
          },
          "metadata": {
            "tags": []
          },
          "execution_count": 48
        }
      ]
    },
    {
      "cell_type": "markdown",
      "metadata": {
        "id": "Tprrm4w21mQd",
        "colab_type": "text"
      },
      "source": [
        "### Accessing data with .loc[index,column]"
      ]
    },
    {
      "cell_type": "code",
      "metadata": {
        "ExecuteTime": {
          "end_time": "2019-01-22T08:23:14.970079Z",
          "start_time": "2019-01-22T08:23:13.785Z"
        },
        "init_cell": true,
        "id": "KUkP7kDX1mQe",
        "colab_type": "code",
        "colab": {
          "base_uri": "https://localhost:8080/",
          "height": 195
        },
        "outputId": "a1e1a0d4-bc9a-499d-aa48-9c2dfda66a40"
      },
      "source": [
        "profit_by_country.index = [\"Row {}\".format(i) for i in range(len(profit_by_country))]\n",
        "profit_by_country.head()"
      ],
      "execution_count": null,
      "outputs": [
        {
          "output_type": "execute_result",
          "data": {
            "text/html": [
              "<div>\n",
              "<style scoped>\n",
              "    .dataframe tbody tr th:only-of-type {\n",
              "        vertical-align: middle;\n",
              "    }\n",
              "\n",
              "    .dataframe tbody tr th {\n",
              "        vertical-align: top;\n",
              "    }\n",
              "\n",
              "    .dataframe thead th {\n",
              "        text-align: right;\n",
              "    }\n",
              "</style>\n",
              "<table border=\"1\" class=\"dataframe\">\n",
              "  <thead>\n",
              "    <tr style=\"text-align: right;\">\n",
              "      <th></th>\n",
              "      <th>Date</th>\n",
              "      <th>Country</th>\n",
              "      <th>Product</th>\n",
              "      <th>Profit</th>\n",
              "    </tr>\n",
              "  </thead>\n",
              "  <tbody>\n",
              "    <tr>\n",
              "      <th>Row 0</th>\n",
              "      <td>2015-01-01</td>\n",
              "      <td>UK</td>\n",
              "      <td>Product A</td>\n",
              "      <td>13409.284139</td>\n",
              "    </tr>\n",
              "    <tr>\n",
              "      <th>Row 1</th>\n",
              "      <td>2015-02-01</td>\n",
              "      <td>UK</td>\n",
              "      <td>Product A</td>\n",
              "      <td>14809.009517</td>\n",
              "    </tr>\n",
              "    <tr>\n",
              "      <th>Row 2</th>\n",
              "      <td>2015-03-01</td>\n",
              "      <td>UK</td>\n",
              "      <td>Product A</td>\n",
              "      <td>11578.124214</td>\n",
              "    </tr>\n",
              "    <tr>\n",
              "      <th>Row 3</th>\n",
              "      <td>2015-04-01</td>\n",
              "      <td>UK</td>\n",
              "      <td>Product A</td>\n",
              "      <td>11438.153093</td>\n",
              "    </tr>\n",
              "    <tr>\n",
              "      <th>Row 4</th>\n",
              "      <td>2015-05-01</td>\n",
              "      <td>UK</td>\n",
              "      <td>Product A</td>\n",
              "      <td>14487.835342</td>\n",
              "    </tr>\n",
              "  </tbody>\n",
              "</table>\n",
              "</div>"
            ],
            "text/plain": [
              "             Date Country    Product        Profit\n",
              "Row 0  2015-01-01      UK  Product A  13409.284139\n",
              "Row 1  2015-02-01      UK  Product A  14809.009517\n",
              "Row 2  2015-03-01      UK  Product A  11578.124214\n",
              "Row 3  2015-04-01      UK  Product A  11438.153093\n",
              "Row 4  2015-05-01      UK  Product A  14487.835342"
            ]
          },
          "metadata": {
            "tags": []
          },
          "execution_count": 49
        }
      ]
    },
    {
      "cell_type": "code",
      "metadata": {
        "ExecuteTime": {
          "end_time": "2019-01-22T08:23:14.971063Z",
          "start_time": "2019-01-22T08:23:13.789Z"
        },
        "init_cell": true,
        "id": "0zxmJw4L1mQg",
        "colab_type": "code",
        "colab": {
          "base_uri": "https://localhost:8080/",
          "height": 101
        },
        "outputId": "0fe7cfb8-53eb-4634-dbb4-6503a9cbdabe"
      },
      "source": [
        "profit_by_country.loc[\"Row 1\"]"
      ],
      "execution_count": null,
      "outputs": [
        {
          "output_type": "execute_result",
          "data": {
            "text/plain": [
              "Date       2015-02-01\n",
              "Country            UK\n",
              "Product     Product A\n",
              "Profit          14809\n",
              "Name: Row 1, dtype: object"
            ]
          },
          "metadata": {
            "tags": []
          },
          "execution_count": 50
        }
      ]
    },
    {
      "cell_type": "code",
      "metadata": {
        "ExecuteTime": {
          "end_time": "2019-01-22T08:23:14.974062Z",
          "start_time": "2019-01-22T08:23:13.794Z"
        },
        "init_cell": true,
        "id": "LCovqWjl1mQi",
        "colab_type": "code",
        "colab": {
          "base_uri": "https://localhost:8080/",
          "height": 34
        },
        "outputId": "c9efa2e1-01ea-4095-e0a0-25cbe26ee2ac"
      },
      "source": [
        "profit_by_country.loc[\"Row 1\",\"Product\"]"
      ],
      "execution_count": null,
      "outputs": [
        {
          "output_type": "execute_result",
          "data": {
            "text/plain": [
              "'Product A'"
            ]
          },
          "metadata": {
            "tags": []
          },
          "execution_count": 51
        }
      ]
    },
    {
      "cell_type": "code",
      "metadata": {
        "ExecuteTime": {
          "end_time": "2019-01-22T08:23:14.978052Z",
          "start_time": "2019-01-22T08:23:13.802Z"
        },
        "init_cell": true,
        "id": "S7qPaN_71mQl",
        "colab_type": "code",
        "colab": {
          "base_uri": "https://localhost:8080/",
          "height": 67
        },
        "outputId": "5f688186-a40f-4c09-d7e9-d155a91d69c6"
      },
      "source": [
        "profit_by_country.loc[[\"Row 1\",\"Row 38\"],\"Product\"]"
      ],
      "execution_count": null,
      "outputs": [
        {
          "output_type": "execute_result",
          "data": {
            "text/plain": [
              "Row 1     Product A\n",
              "Row 38    Product B\n",
              "Name: Product, dtype: object"
            ]
          },
          "metadata": {
            "tags": []
          },
          "execution_count": 52
        }
      ]
    },
    {
      "cell_type": "markdown",
      "metadata": {
        "id": "ziz32kV51mQn",
        "colab_type": "text"
      },
      "source": [
        "## Creating columns"
      ]
    },
    {
      "cell_type": "code",
      "metadata": {
        "id": "4fn2V5WZ1mQn",
        "colab_type": "code",
        "colab": {}
      },
      "source": [
        "profit_copy = profit_by_country.copy()"
      ],
      "execution_count": null,
      "outputs": []
    },
    {
      "cell_type": "markdown",
      "metadata": {
        "id": "8LMBej-j1mQp",
        "colab_type": "text"
      },
      "source": [
        "### From one element"
      ]
    },
    {
      "cell_type": "code",
      "metadata": {
        "id": "gUsKiwXs1mQq",
        "colab_type": "code",
        "colab": {
          "base_uri": "https://localhost:8080/",
          "height": 195
        },
        "outputId": "300cd7cf-e774-43ae-f725-2efd8fdef821"
      },
      "source": [
        "profit_copy[\"Test 1\"] = 12\n",
        "profit_copy[\"Test 2\"] = \"hello\"\n",
        "profit_copy.head()"
      ],
      "execution_count": null,
      "outputs": [
        {
          "output_type": "execute_result",
          "data": {
            "text/html": [
              "<div>\n",
              "<style scoped>\n",
              "    .dataframe tbody tr th:only-of-type {\n",
              "        vertical-align: middle;\n",
              "    }\n",
              "\n",
              "    .dataframe tbody tr th {\n",
              "        vertical-align: top;\n",
              "    }\n",
              "\n",
              "    .dataframe thead th {\n",
              "        text-align: right;\n",
              "    }\n",
              "</style>\n",
              "<table border=\"1\" class=\"dataframe\">\n",
              "  <thead>\n",
              "    <tr style=\"text-align: right;\">\n",
              "      <th></th>\n",
              "      <th>Date</th>\n",
              "      <th>Country</th>\n",
              "      <th>Product</th>\n",
              "      <th>Profit</th>\n",
              "      <th>Test 1</th>\n",
              "      <th>Test 2</th>\n",
              "    </tr>\n",
              "  </thead>\n",
              "  <tbody>\n",
              "    <tr>\n",
              "      <th>Row 0</th>\n",
              "      <td>2015-01-01</td>\n",
              "      <td>UK</td>\n",
              "      <td>Product A</td>\n",
              "      <td>13409.284139</td>\n",
              "      <td>12</td>\n",
              "      <td>hello</td>\n",
              "    </tr>\n",
              "    <tr>\n",
              "      <th>Row 1</th>\n",
              "      <td>2015-02-01</td>\n",
              "      <td>UK</td>\n",
              "      <td>Product A</td>\n",
              "      <td>14809.009517</td>\n",
              "      <td>12</td>\n",
              "      <td>hello</td>\n",
              "    </tr>\n",
              "    <tr>\n",
              "      <th>Row 2</th>\n",
              "      <td>2015-03-01</td>\n",
              "      <td>UK</td>\n",
              "      <td>Product A</td>\n",
              "      <td>11578.124214</td>\n",
              "      <td>12</td>\n",
              "      <td>hello</td>\n",
              "    </tr>\n",
              "    <tr>\n",
              "      <th>Row 3</th>\n",
              "      <td>2015-04-01</td>\n",
              "      <td>UK</td>\n",
              "      <td>Product A</td>\n",
              "      <td>11438.153093</td>\n",
              "      <td>12</td>\n",
              "      <td>hello</td>\n",
              "    </tr>\n",
              "    <tr>\n",
              "      <th>Row 4</th>\n",
              "      <td>2015-05-01</td>\n",
              "      <td>UK</td>\n",
              "      <td>Product A</td>\n",
              "      <td>14487.835342</td>\n",
              "      <td>12</td>\n",
              "      <td>hello</td>\n",
              "    </tr>\n",
              "  </tbody>\n",
              "</table>\n",
              "</div>"
            ],
            "text/plain": [
              "             Date Country    Product        Profit  Test 1 Test 2\n",
              "Row 0  2015-01-01      UK  Product A  13409.284139      12  hello\n",
              "Row 1  2015-02-01      UK  Product A  14809.009517      12  hello\n",
              "Row 2  2015-03-01      UK  Product A  11578.124214      12  hello\n",
              "Row 3  2015-04-01      UK  Product A  11438.153093      12  hello\n",
              "Row 4  2015-05-01      UK  Product A  14487.835342      12  hello"
            ]
          },
          "metadata": {
            "tags": []
          },
          "execution_count": 54
        }
      ]
    },
    {
      "cell_type": "markdown",
      "metadata": {
        "id": "DLnq04Av1mQs",
        "colab_type": "text"
      },
      "source": [
        "### From lists"
      ]
    },
    {
      "cell_type": "code",
      "metadata": {
        "id": "T9Y4h-aW1mQt",
        "colab_type": "code",
        "colab": {
          "base_uri": "https://localhost:8080/",
          "height": 195
        },
        "outputId": "65d39817-012a-4486-951c-9e1bd4dd3af8"
      },
      "source": [
        "profit_copy[\"Test 3\"] = [i for i in range(len(profit_copy))]\n",
        "profit_copy.head()"
      ],
      "execution_count": null,
      "outputs": [
        {
          "output_type": "execute_result",
          "data": {
            "text/html": [
              "<div>\n",
              "<style scoped>\n",
              "    .dataframe tbody tr th:only-of-type {\n",
              "        vertical-align: middle;\n",
              "    }\n",
              "\n",
              "    .dataframe tbody tr th {\n",
              "        vertical-align: top;\n",
              "    }\n",
              "\n",
              "    .dataframe thead th {\n",
              "        text-align: right;\n",
              "    }\n",
              "</style>\n",
              "<table border=\"1\" class=\"dataframe\">\n",
              "  <thead>\n",
              "    <tr style=\"text-align: right;\">\n",
              "      <th></th>\n",
              "      <th>Date</th>\n",
              "      <th>Country</th>\n",
              "      <th>Product</th>\n",
              "      <th>Profit</th>\n",
              "      <th>Test 1</th>\n",
              "      <th>Test 2</th>\n",
              "      <th>Test 3</th>\n",
              "    </tr>\n",
              "  </thead>\n",
              "  <tbody>\n",
              "    <tr>\n",
              "      <th>Row 0</th>\n",
              "      <td>2015-01-01</td>\n",
              "      <td>UK</td>\n",
              "      <td>Product A</td>\n",
              "      <td>13409.284139</td>\n",
              "      <td>12</td>\n",
              "      <td>hello</td>\n",
              "      <td>0</td>\n",
              "    </tr>\n",
              "    <tr>\n",
              "      <th>Row 1</th>\n",
              "      <td>2015-02-01</td>\n",
              "      <td>UK</td>\n",
              "      <td>Product A</td>\n",
              "      <td>14809.009517</td>\n",
              "      <td>12</td>\n",
              "      <td>hello</td>\n",
              "      <td>1</td>\n",
              "    </tr>\n",
              "    <tr>\n",
              "      <th>Row 2</th>\n",
              "      <td>2015-03-01</td>\n",
              "      <td>UK</td>\n",
              "      <td>Product A</td>\n",
              "      <td>11578.124214</td>\n",
              "      <td>12</td>\n",
              "      <td>hello</td>\n",
              "      <td>2</td>\n",
              "    </tr>\n",
              "    <tr>\n",
              "      <th>Row 3</th>\n",
              "      <td>2015-04-01</td>\n",
              "      <td>UK</td>\n",
              "      <td>Product A</td>\n",
              "      <td>11438.153093</td>\n",
              "      <td>12</td>\n",
              "      <td>hello</td>\n",
              "      <td>3</td>\n",
              "    </tr>\n",
              "    <tr>\n",
              "      <th>Row 4</th>\n",
              "      <td>2015-05-01</td>\n",
              "      <td>UK</td>\n",
              "      <td>Product A</td>\n",
              "      <td>14487.835342</td>\n",
              "      <td>12</td>\n",
              "      <td>hello</td>\n",
              "      <td>4</td>\n",
              "    </tr>\n",
              "  </tbody>\n",
              "</table>\n",
              "</div>"
            ],
            "text/plain": [
              "             Date Country    Product        Profit  Test 1 Test 2  Test 3\n",
              "Row 0  2015-01-01      UK  Product A  13409.284139      12  hello       0\n",
              "Row 1  2015-02-01      UK  Product A  14809.009517      12  hello       1\n",
              "Row 2  2015-03-01      UK  Product A  11578.124214      12  hello       2\n",
              "Row 3  2015-04-01      UK  Product A  11438.153093      12  hello       3\n",
              "Row 4  2015-05-01      UK  Product A  14487.835342      12  hello       4"
            ]
          },
          "metadata": {
            "tags": []
          },
          "execution_count": 55
        }
      ]
    },
    {
      "cell_type": "markdown",
      "metadata": {
        "id": "8192D_lX1mQw",
        "colab_type": "text"
      },
      "source": [
        "### From other columns"
      ]
    },
    {
      "cell_type": "code",
      "metadata": {
        "id": "vCO7xHvQ1mQw",
        "colab_type": "code",
        "colab": {
          "base_uri": "https://localhost:8080/",
          "height": 195
        },
        "outputId": "a041eeee-8fb4-4d62-c6db-91351dc2e13d"
      },
      "source": [
        "profit_copy[\"Profit * 3\"] = profit_copy[\"Profit\"] * 3\n",
        "profit_copy[\"Country Product\"] = profit_copy[\"Country\"] + profit_copy[\"Product\"]\n",
        "profit_copy.head()"
      ],
      "execution_count": null,
      "outputs": [
        {
          "output_type": "execute_result",
          "data": {
            "text/html": [
              "<div>\n",
              "<style scoped>\n",
              "    .dataframe tbody tr th:only-of-type {\n",
              "        vertical-align: middle;\n",
              "    }\n",
              "\n",
              "    .dataframe tbody tr th {\n",
              "        vertical-align: top;\n",
              "    }\n",
              "\n",
              "    .dataframe thead th {\n",
              "        text-align: right;\n",
              "    }\n",
              "</style>\n",
              "<table border=\"1\" class=\"dataframe\">\n",
              "  <thead>\n",
              "    <tr style=\"text-align: right;\">\n",
              "      <th></th>\n",
              "      <th>Date</th>\n",
              "      <th>Country</th>\n",
              "      <th>Product</th>\n",
              "      <th>Profit</th>\n",
              "      <th>Test 1</th>\n",
              "      <th>Test 2</th>\n",
              "      <th>Test 3</th>\n",
              "      <th>Profit * 3</th>\n",
              "      <th>Country Product</th>\n",
              "    </tr>\n",
              "  </thead>\n",
              "  <tbody>\n",
              "    <tr>\n",
              "      <th>Row 0</th>\n",
              "      <td>2015-01-01</td>\n",
              "      <td>UK</td>\n",
              "      <td>Product A</td>\n",
              "      <td>13409.284139</td>\n",
              "      <td>12</td>\n",
              "      <td>hello</td>\n",
              "      <td>0</td>\n",
              "      <td>40227.852416</td>\n",
              "      <td>UKProduct A</td>\n",
              "    </tr>\n",
              "    <tr>\n",
              "      <th>Row 1</th>\n",
              "      <td>2015-02-01</td>\n",
              "      <td>UK</td>\n",
              "      <td>Product A</td>\n",
              "      <td>14809.009517</td>\n",
              "      <td>12</td>\n",
              "      <td>hello</td>\n",
              "      <td>1</td>\n",
              "      <td>44427.028552</td>\n",
              "      <td>UKProduct A</td>\n",
              "    </tr>\n",
              "    <tr>\n",
              "      <th>Row 2</th>\n",
              "      <td>2015-03-01</td>\n",
              "      <td>UK</td>\n",
              "      <td>Product A</td>\n",
              "      <td>11578.124214</td>\n",
              "      <td>12</td>\n",
              "      <td>hello</td>\n",
              "      <td>2</td>\n",
              "      <td>34734.372642</td>\n",
              "      <td>UKProduct A</td>\n",
              "    </tr>\n",
              "    <tr>\n",
              "      <th>Row 3</th>\n",
              "      <td>2015-04-01</td>\n",
              "      <td>UK</td>\n",
              "      <td>Product A</td>\n",
              "      <td>11438.153093</td>\n",
              "      <td>12</td>\n",
              "      <td>hello</td>\n",
              "      <td>3</td>\n",
              "      <td>34314.459278</td>\n",
              "      <td>UKProduct A</td>\n",
              "    </tr>\n",
              "    <tr>\n",
              "      <th>Row 4</th>\n",
              "      <td>2015-05-01</td>\n",
              "      <td>UK</td>\n",
              "      <td>Product A</td>\n",
              "      <td>14487.835342</td>\n",
              "      <td>12</td>\n",
              "      <td>hello</td>\n",
              "      <td>4</td>\n",
              "      <td>43463.506027</td>\n",
              "      <td>UKProduct A</td>\n",
              "    </tr>\n",
              "  </tbody>\n",
              "</table>\n",
              "</div>"
            ],
            "text/plain": [
              "             Date Country    Product        Profit  Test 1 Test 2  Test 3  \\\n",
              "Row 0  2015-01-01      UK  Product A  13409.284139      12  hello       0   \n",
              "Row 1  2015-02-01      UK  Product A  14809.009517      12  hello       1   \n",
              "Row 2  2015-03-01      UK  Product A  11578.124214      12  hello       2   \n",
              "Row 3  2015-04-01      UK  Product A  11438.153093      12  hello       3   \n",
              "Row 4  2015-05-01      UK  Product A  14487.835342      12  hello       4   \n",
              "\n",
              "         Profit * 3 Country Product  \n",
              "Row 0  40227.852416     UKProduct A  \n",
              "Row 1  44427.028552     UKProduct A  \n",
              "Row 2  34734.372642     UKProduct A  \n",
              "Row 3  34314.459278     UKProduct A  \n",
              "Row 4  43463.506027     UKProduct A  "
            ]
          },
          "metadata": {
            "tags": []
          },
          "execution_count": 56
        }
      ]
    },
    {
      "cell_type": "markdown",
      "metadata": {
        "id": "v2oifw7x1mQz",
        "colab_type": "text"
      },
      "source": [
        "### Application with the function to_datetime to handle dates"
      ]
    },
    {
      "cell_type": "code",
      "metadata": {
        "id": "mknhN3ZR1mQ0",
        "colab_type": "code",
        "colab": {
          "base_uri": "https://localhost:8080/",
          "height": 195
        },
        "outputId": "61957ae6-46ea-4209-a9a7-289cdbf517c8"
      },
      "source": [
        "profit_by_country[\"Date\"] = pd.to_datetime(profit_by_country[\"Date\"])\n",
        "profit_by_country.head()"
      ],
      "execution_count": null,
      "outputs": [
        {
          "output_type": "execute_result",
          "data": {
            "text/html": [
              "<div>\n",
              "<style scoped>\n",
              "    .dataframe tbody tr th:only-of-type {\n",
              "        vertical-align: middle;\n",
              "    }\n",
              "\n",
              "    .dataframe tbody tr th {\n",
              "        vertical-align: top;\n",
              "    }\n",
              "\n",
              "    .dataframe thead th {\n",
              "        text-align: right;\n",
              "    }\n",
              "</style>\n",
              "<table border=\"1\" class=\"dataframe\">\n",
              "  <thead>\n",
              "    <tr style=\"text-align: right;\">\n",
              "      <th></th>\n",
              "      <th>Date</th>\n",
              "      <th>Country</th>\n",
              "      <th>Product</th>\n",
              "      <th>Profit</th>\n",
              "    </tr>\n",
              "  </thead>\n",
              "  <tbody>\n",
              "    <tr>\n",
              "      <th>Row 0</th>\n",
              "      <td>2015-01-01</td>\n",
              "      <td>UK</td>\n",
              "      <td>Product A</td>\n",
              "      <td>13409.284139</td>\n",
              "    </tr>\n",
              "    <tr>\n",
              "      <th>Row 1</th>\n",
              "      <td>2015-02-01</td>\n",
              "      <td>UK</td>\n",
              "      <td>Product A</td>\n",
              "      <td>14809.009517</td>\n",
              "    </tr>\n",
              "    <tr>\n",
              "      <th>Row 2</th>\n",
              "      <td>2015-03-01</td>\n",
              "      <td>UK</td>\n",
              "      <td>Product A</td>\n",
              "      <td>11578.124214</td>\n",
              "    </tr>\n",
              "    <tr>\n",
              "      <th>Row 3</th>\n",
              "      <td>2015-04-01</td>\n",
              "      <td>UK</td>\n",
              "      <td>Product A</td>\n",
              "      <td>11438.153093</td>\n",
              "    </tr>\n",
              "    <tr>\n",
              "      <th>Row 4</th>\n",
              "      <td>2015-05-01</td>\n",
              "      <td>UK</td>\n",
              "      <td>Product A</td>\n",
              "      <td>14487.835342</td>\n",
              "    </tr>\n",
              "  </tbody>\n",
              "</table>\n",
              "</div>"
            ],
            "text/plain": [
              "            Date Country    Product        Profit\n",
              "Row 0 2015-01-01      UK  Product A  13409.284139\n",
              "Row 1 2015-02-01      UK  Product A  14809.009517\n",
              "Row 2 2015-03-01      UK  Product A  11578.124214\n",
              "Row 3 2015-04-01      UK  Product A  11438.153093\n",
              "Row 4 2015-05-01      UK  Product A  14487.835342"
            ]
          },
          "metadata": {
            "tags": []
          },
          "execution_count": 57
        }
      ]
    },
    {
      "cell_type": "code",
      "metadata": {
        "id": "dw-H3x1N1mQ3",
        "colab_type": "code",
        "colab": {
          "base_uri": "https://localhost:8080/",
          "height": 34
        },
        "outputId": "d4f35a5b-973b-400f-ebe8-0785de6fb401"
      },
      "source": [
        "profit_by_country[\"Date\"].iloc[0]"
      ],
      "execution_count": null,
      "outputs": [
        {
          "output_type": "execute_result",
          "data": {
            "text/plain": [
              "Timestamp('2015-01-01 00:00:00')"
            ]
          },
          "metadata": {
            "tags": []
          },
          "execution_count": 58
        }
      ]
    },
    {
      "cell_type": "markdown",
      "metadata": {
        "id": "SKsHt7Zl1mQ5",
        "colab_type": "text"
      },
      "source": [
        "## Filtering dataframes"
      ]
    },
    {
      "cell_type": "markdown",
      "metadata": {
        "id": "kk2Ap9vh1mQ7",
        "colab_type": "text"
      },
      "source": [
        "### Boolean arrays"
      ]
    },
    {
      "cell_type": "code",
      "metadata": {
        "id": "YP_7-NNz1mQ9",
        "colab_type": "code",
        "colab": {
          "base_uri": "https://localhost:8080/",
          "height": 118
        },
        "outputId": "b454945a-07f9-41c2-c7be-dcab6cd869bb"
      },
      "source": [
        "(profit_by_country[\"Profit\"] > 14000).head()"
      ],
      "execution_count": null,
      "outputs": [
        {
          "output_type": "execute_result",
          "data": {
            "text/plain": [
              "Row 0    False\n",
              "Row 1     True\n",
              "Row 2    False\n",
              "Row 3    False\n",
              "Row 4     True\n",
              "Name: Profit, dtype: bool"
            ]
          },
          "metadata": {
            "tags": []
          },
          "execution_count": 59
        }
      ]
    },
    {
      "cell_type": "markdown",
      "metadata": {
        "id": "hCiqChwA1mRC",
        "colab_type": "text"
      },
      "source": [
        "### The use of boolean arrays on filtering "
      ]
    },
    {
      "cell_type": "code",
      "metadata": {
        "id": "CpDvmr6d1mRD",
        "colab_type": "code",
        "colab": {
          "base_uri": "https://localhost:8080/",
          "height": 195
        },
        "outputId": "5ca18775-5cec-4460-a316-67a778193bd9"
      },
      "source": [
        "profit_by_country.loc[profit_by_country[\"Profit\"] < 2000].head()"
      ],
      "execution_count": null,
      "outputs": [
        {
          "output_type": "execute_result",
          "data": {
            "text/html": [
              "<div>\n",
              "<style scoped>\n",
              "    .dataframe tbody tr th:only-of-type {\n",
              "        vertical-align: middle;\n",
              "    }\n",
              "\n",
              "    .dataframe tbody tr th {\n",
              "        vertical-align: top;\n",
              "    }\n",
              "\n",
              "    .dataframe thead th {\n",
              "        text-align: right;\n",
              "    }\n",
              "</style>\n",
              "<table border=\"1\" class=\"dataframe\">\n",
              "  <thead>\n",
              "    <tr style=\"text-align: right;\">\n",
              "      <th></th>\n",
              "      <th>Date</th>\n",
              "      <th>Country</th>\n",
              "      <th>Product</th>\n",
              "      <th>Profit</th>\n",
              "    </tr>\n",
              "  </thead>\n",
              "  <tbody>\n",
              "    <tr>\n",
              "      <th>Row 31</th>\n",
              "      <td>2015-08-01</td>\n",
              "      <td>UK</td>\n",
              "      <td>Product B</td>\n",
              "      <td>875.081907</td>\n",
              "    </tr>\n",
              "    <tr>\n",
              "      <th>Row 32</th>\n",
              "      <td>2015-09-01</td>\n",
              "      <td>UK</td>\n",
              "      <td>Product B</td>\n",
              "      <td>1247.584961</td>\n",
              "    </tr>\n",
              "    <tr>\n",
              "      <th>Row 33</th>\n",
              "      <td>2015-10-01</td>\n",
              "      <td>UK</td>\n",
              "      <td>Product B</td>\n",
              "      <td>-1783.847937</td>\n",
              "    </tr>\n",
              "    <tr>\n",
              "      <th>Row 34</th>\n",
              "      <td>2015-11-01</td>\n",
              "      <td>UK</td>\n",
              "      <td>Product B</td>\n",
              "      <td>-2166.464002</td>\n",
              "    </tr>\n",
              "    <tr>\n",
              "      <th>Row 35</th>\n",
              "      <td>2015-12-01</td>\n",
              "      <td>UK</td>\n",
              "      <td>Product B</td>\n",
              "      <td>-1703.769271</td>\n",
              "    </tr>\n",
              "  </tbody>\n",
              "</table>\n",
              "</div>"
            ],
            "text/plain": [
              "             Date Country    Product       Profit\n",
              "Row 31 2015-08-01      UK  Product B   875.081907\n",
              "Row 32 2015-09-01      UK  Product B  1247.584961\n",
              "Row 33 2015-10-01      UK  Product B -1783.847937\n",
              "Row 34 2015-11-01      UK  Product B -2166.464002\n",
              "Row 35 2015-12-01      UK  Product B -1703.769271"
            ]
          },
          "metadata": {
            "tags": []
          },
          "execution_count": 60
        }
      ]
    },
    {
      "cell_type": "code",
      "metadata": {
        "id": "ektuDGLs1mRG",
        "colab_type": "code",
        "colab": {
          "base_uri": "https://localhost:8080/",
          "height": 195
        },
        "outputId": "1e069ada-63a3-4a52-999c-5e95996da448"
      },
      "source": [
        "profit_by_country.loc[profit_by_country[\"Product\"] == \"Product B\"].head()"
      ],
      "execution_count": null,
      "outputs": [
        {
          "output_type": "execute_result",
          "data": {
            "text/html": [
              "<div>\n",
              "<style scoped>\n",
              "    .dataframe tbody tr th:only-of-type {\n",
              "        vertical-align: middle;\n",
              "    }\n",
              "\n",
              "    .dataframe tbody tr th {\n",
              "        vertical-align: top;\n",
              "    }\n",
              "\n",
              "    .dataframe thead th {\n",
              "        text-align: right;\n",
              "    }\n",
              "</style>\n",
              "<table border=\"1\" class=\"dataframe\">\n",
              "  <thead>\n",
              "    <tr style=\"text-align: right;\">\n",
              "      <th></th>\n",
              "      <th>Date</th>\n",
              "      <th>Country</th>\n",
              "      <th>Product</th>\n",
              "      <th>Profit</th>\n",
              "    </tr>\n",
              "  </thead>\n",
              "  <tbody>\n",
              "    <tr>\n",
              "      <th>Row 24</th>\n",
              "      <td>2015-01-01</td>\n",
              "      <td>UK</td>\n",
              "      <td>Product B</td>\n",
              "      <td>8321.795799</td>\n",
              "    </tr>\n",
              "    <tr>\n",
              "      <th>Row 25</th>\n",
              "      <td>2015-02-01</td>\n",
              "      <td>UK</td>\n",
              "      <td>Product B</td>\n",
              "      <td>7634.057713</td>\n",
              "    </tr>\n",
              "    <tr>\n",
              "      <th>Row 26</th>\n",
              "      <td>2015-03-01</td>\n",
              "      <td>UK</td>\n",
              "      <td>Product B</td>\n",
              "      <td>6360.785545</td>\n",
              "    </tr>\n",
              "    <tr>\n",
              "      <th>Row 27</th>\n",
              "      <td>2015-04-01</td>\n",
              "      <td>UK</td>\n",
              "      <td>Product B</td>\n",
              "      <td>7702.255163</td>\n",
              "    </tr>\n",
              "    <tr>\n",
              "      <th>Row 28</th>\n",
              "      <td>2015-05-01</td>\n",
              "      <td>UK</td>\n",
              "      <td>Product B</td>\n",
              "      <td>4957.231625</td>\n",
              "    </tr>\n",
              "  </tbody>\n",
              "</table>\n",
              "</div>"
            ],
            "text/plain": [
              "             Date Country    Product       Profit\n",
              "Row 24 2015-01-01      UK  Product B  8321.795799\n",
              "Row 25 2015-02-01      UK  Product B  7634.057713\n",
              "Row 26 2015-03-01      UK  Product B  6360.785545\n",
              "Row 27 2015-04-01      UK  Product B  7702.255163\n",
              "Row 28 2015-05-01      UK  Product B  4957.231625"
            ]
          },
          "metadata": {
            "tags": []
          },
          "execution_count": 61
        }
      ]
    },
    {
      "cell_type": "code",
      "metadata": {
        "id": "Pc7JpMmh1mRJ",
        "colab_type": "code",
        "colab": {
          "base_uri": "https://localhost:8080/",
          "height": 195
        },
        "outputId": "957b6fcc-1751-4573-f65f-f419bb0ae34f"
      },
      "source": [
        "profit_by_country.loc[(profit_by_country[\"Product\"] == \"Product B\") & (profit_by_country[\"Date\"] < \"2015-03-01\")].head()"
      ],
      "execution_count": null,
      "outputs": [
        {
          "output_type": "execute_result",
          "data": {
            "text/html": [
              "<div>\n",
              "<style scoped>\n",
              "    .dataframe tbody tr th:only-of-type {\n",
              "        vertical-align: middle;\n",
              "    }\n",
              "\n",
              "    .dataframe tbody tr th {\n",
              "        vertical-align: top;\n",
              "    }\n",
              "\n",
              "    .dataframe thead th {\n",
              "        text-align: right;\n",
              "    }\n",
              "</style>\n",
              "<table border=\"1\" class=\"dataframe\">\n",
              "  <thead>\n",
              "    <tr style=\"text-align: right;\">\n",
              "      <th></th>\n",
              "      <th>Date</th>\n",
              "      <th>Country</th>\n",
              "      <th>Product</th>\n",
              "      <th>Profit</th>\n",
              "    </tr>\n",
              "  </thead>\n",
              "  <tbody>\n",
              "    <tr>\n",
              "      <th>Row 24</th>\n",
              "      <td>2015-01-01</td>\n",
              "      <td>UK</td>\n",
              "      <td>Product B</td>\n",
              "      <td>8321.795799</td>\n",
              "    </tr>\n",
              "    <tr>\n",
              "      <th>Row 25</th>\n",
              "      <td>2015-02-01</td>\n",
              "      <td>UK</td>\n",
              "      <td>Product B</td>\n",
              "      <td>7634.057713</td>\n",
              "    </tr>\n",
              "    <tr>\n",
              "      <th>Row 144</th>\n",
              "      <td>2015-01-01</td>\n",
              "      <td>France</td>\n",
              "      <td>Product B</td>\n",
              "      <td>10183.708422</td>\n",
              "    </tr>\n",
              "    <tr>\n",
              "      <th>Row 145</th>\n",
              "      <td>2015-02-01</td>\n",
              "      <td>France</td>\n",
              "      <td>Product B</td>\n",
              "      <td>10986.741127</td>\n",
              "    </tr>\n",
              "    <tr>\n",
              "      <th>Row 264</th>\n",
              "      <td>2015-01-01</td>\n",
              "      <td>Germany</td>\n",
              "      <td>Product B</td>\n",
              "      <td>11362.777745</td>\n",
              "    </tr>\n",
              "  </tbody>\n",
              "</table>\n",
              "</div>"
            ],
            "text/plain": [
              "              Date  Country    Product        Profit\n",
              "Row 24  2015-01-01       UK  Product B   8321.795799\n",
              "Row 25  2015-02-01       UK  Product B   7634.057713\n",
              "Row 144 2015-01-01   France  Product B  10183.708422\n",
              "Row 145 2015-02-01   France  Product B  10986.741127\n",
              "Row 264 2015-01-01  Germany  Product B  11362.777745"
            ]
          },
          "metadata": {
            "tags": []
          },
          "execution_count": 62
        }
      ]
    },
    {
      "cell_type": "markdown",
      "metadata": {
        "id": "2dOFRQd91mRL",
        "colab_type": "text"
      },
      "source": [
        "## Operations on Series"
      ]
    },
    {
      "cell_type": "code",
      "metadata": {
        "id": "oGgvg0E21mRM",
        "colab_type": "code",
        "colab": {
          "base_uri": "https://localhost:8080/",
          "height": 67
        },
        "outputId": "56189532-81c2-431b-d06f-4b37841a8691"
      },
      "source": [
        "print(profit_by_country[\"Profit\"].sum())\n",
        "print(profit_by_country[\"Profit\"].mean())\n",
        "print(profit_by_country[\"Profit\"].std())"
      ],
      "execution_count": null,
      "outputs": [
        {
          "output_type": "stream",
          "text": [
            "7359259.236438815\n",
            "7665.895037957099\n",
            "5303.8488172730185\n"
          ],
          "name": "stdout"
        }
      ]
    },
    {
      "cell_type": "markdown",
      "metadata": {
        "id": "pHtsSwSc1mRQ",
        "colab_type": "text"
      },
      "source": [
        "## Visualizing data"
      ]
    },
    {
      "cell_type": "code",
      "metadata": {
        "id": "xrZ_0_oC1mRQ",
        "colab_type": "code",
        "colab": {
          "base_uri": "https://localhost:8080/",
          "height": 195
        },
        "outputId": "19105ea5-d37e-4b4c-f84a-364938638606"
      },
      "source": [
        "profit_UK_Product_B = profit_by_country.loc[(profit_by_country[\"Country\"] == \"UK\") & (profit_by_country[\"Product\"] == \"Product B\")]\n",
        "profit_UK_Product_B.head()"
      ],
      "execution_count": null,
      "outputs": [
        {
          "output_type": "execute_result",
          "data": {
            "text/html": [
              "<div>\n",
              "<style scoped>\n",
              "    .dataframe tbody tr th:only-of-type {\n",
              "        vertical-align: middle;\n",
              "    }\n",
              "\n",
              "    .dataframe tbody tr th {\n",
              "        vertical-align: top;\n",
              "    }\n",
              "\n",
              "    .dataframe thead th {\n",
              "        text-align: right;\n",
              "    }\n",
              "</style>\n",
              "<table border=\"1\" class=\"dataframe\">\n",
              "  <thead>\n",
              "    <tr style=\"text-align: right;\">\n",
              "      <th></th>\n",
              "      <th>Date</th>\n",
              "      <th>Country</th>\n",
              "      <th>Product</th>\n",
              "      <th>Profit</th>\n",
              "    </tr>\n",
              "  </thead>\n",
              "  <tbody>\n",
              "    <tr>\n",
              "      <th>Row 24</th>\n",
              "      <td>2015-01-01</td>\n",
              "      <td>UK</td>\n",
              "      <td>Product B</td>\n",
              "      <td>8321.795799</td>\n",
              "    </tr>\n",
              "    <tr>\n",
              "      <th>Row 25</th>\n",
              "      <td>2015-02-01</td>\n",
              "      <td>UK</td>\n",
              "      <td>Product B</td>\n",
              "      <td>7634.057713</td>\n",
              "    </tr>\n",
              "    <tr>\n",
              "      <th>Row 26</th>\n",
              "      <td>2015-03-01</td>\n",
              "      <td>UK</td>\n",
              "      <td>Product B</td>\n",
              "      <td>6360.785545</td>\n",
              "    </tr>\n",
              "    <tr>\n",
              "      <th>Row 27</th>\n",
              "      <td>2015-04-01</td>\n",
              "      <td>UK</td>\n",
              "      <td>Product B</td>\n",
              "      <td>7702.255163</td>\n",
              "    </tr>\n",
              "    <tr>\n",
              "      <th>Row 28</th>\n",
              "      <td>2015-05-01</td>\n",
              "      <td>UK</td>\n",
              "      <td>Product B</td>\n",
              "      <td>4957.231625</td>\n",
              "    </tr>\n",
              "  </tbody>\n",
              "</table>\n",
              "</div>"
            ],
            "text/plain": [
              "             Date Country    Product       Profit\n",
              "Row 24 2015-01-01      UK  Product B  8321.795799\n",
              "Row 25 2015-02-01      UK  Product B  7634.057713\n",
              "Row 26 2015-03-01      UK  Product B  6360.785545\n",
              "Row 27 2015-04-01      UK  Product B  7702.255163\n",
              "Row 28 2015-05-01      UK  Product B  4957.231625"
            ]
          },
          "metadata": {
            "tags": []
          },
          "execution_count": 64
        }
      ]
    },
    {
      "cell_type": "code",
      "metadata": {
        "id": "tC3sBXhZ1mRT",
        "colab_type": "code",
        "colab": {
          "base_uri": "https://localhost:8080/",
          "height": 372
        },
        "outputId": "0877b820-78b2-41ad-8cda-31a70389e944"
      },
      "source": [
        "profit_UK_Product_B.set_index(\"Date\")[\"Profit\"].plot()\n",
        "plt.show()"
      ],
      "execution_count": null,
      "outputs": [
        {
          "output_type": "display_data",
          "data": {
            "image/png": "[encoded data removed]",
            "text/plain": [
              "<Figure size 576x396 with 1 Axes>"
            ]
          },
          "metadata": {
            "tags": []
          }
        }
      ]
    },
    {
      "cell_type": "markdown",
      "metadata": {
        "collapsed": true,
        "id": "L0cqlzKB1mRY",
        "colab_type": "text"
      },
      "source": [
        "<h2 style = \"color:#BF0000\"><u>Exercises 1 : playing with the data</u></h2><br>"
      ]
    },
    {
      "cell_type": "markdown",
      "metadata": {
        "solution2": "hidden",
        "solution2_first": true,
        "id": "1uJb16k61mRZ",
        "colab_type": "text"
      },
      "source": [
        "##### Total profit in the USA in the 2015 ?"
      ]
    },
    {
      "cell_type": "code",
      "metadata": {
        "id": "3eKOBZDo1mRZ",
        "colab_type": "code",
        "colab": {}
      },
      "source": [
        ""
      ],
      "execution_count": null,
      "outputs": []
    },
    {
      "cell_type": "markdown",
      "metadata": {
        "solution2": "hidden",
        "solution2_first": true,
        "id": "DrEnFt3Y1mRc",
        "colab_type": "text"
      },
      "source": [
        "##### Average profit per month for product A in Italy ?"
      ]
    },
    {
      "cell_type": "code",
      "metadata": {
        "id": "Earm3YwI1mRd",
        "colab_type": "code",
        "colab": {}
      },
      "source": [
        ""
      ],
      "execution_count": null,
      "outputs": []
    },
    {
      "cell_type": "markdown",
      "metadata": {
        "solution2": "hidden",
        "solution2_first": true,
        "id": "H8hz_YPL1mRf",
        "colab_type": "text"
      },
      "source": [
        "##### Plot profit on product C in 2016 for France and UK?"
      ]
    },
    {
      "cell_type": "code",
      "metadata": {
        "id": "uXjuBenq1mRg",
        "colab_type": "code",
        "colab": {}
      },
      "source": [
        ""
      ],
      "execution_count": null,
      "outputs": []
    }
  ]
}